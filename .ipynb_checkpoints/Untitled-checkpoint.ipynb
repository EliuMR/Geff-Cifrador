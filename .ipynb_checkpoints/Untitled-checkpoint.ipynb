{
 "cells": [
  {
   "cell_type": "code",
   "execution_count": 1,
   "id": "83c8d450",
   "metadata": {},
   "outputs": [],
   "source": [
    "import numpy as np\n",
    "#Xor\n",
    "def xor(a, b):\n",
    "    if a==b:\n",
    "        return 0\n",
    "    else:\n",
    "        return 1\n",
    "from numpy import random\n",
    "#Generador de semilla\n",
    "def Semilla(tamano):\n",
    "    semilla=''\n",
    "    for j in range(tamano):\n",
    "        semilla = str(random.randint(2))+semilla\n",
    "    return semilla"
   ]
  },
  {
   "cell_type": "code",
   "execution_count": 2,
   "id": "46a34ad0",
   "metadata": {},
   "outputs": [],
   "source": [
    "#Polinomio asociado X**57+X**7+1\n",
    "def recorrer(semilla,registro,longitud):\n",
    "    #Creamos el registro con la semilla dada\n",
    "    for i in range(longitud):\n",
    "        registro[i]=int(semilla[i])\n",
    "    #creamos un registro auxiliar en el cual se recorrerá el original\n",
    "    registroaux=np.zeros(longitud)\n",
    "    #Recorremos los bits a la derecha, menos el primero\n",
    "    for i in range(longitud-1):\n",
    "        registroaux[i+1]=int(registro[i])\n",
    "    #agregamos la primera casilla dependiendo del polinomio\n",
    "    s57XORs7=xor(registro[56],registro[6])\n",
    "    registroaux[0]=s57XORs7\n",
    "    #sale el último bit del registro\n",
    "    salida=int(registro[-1])\n",
    "    #cambiamos el auxiliar al original\n",
    "    registro=registroaux\n",
    "    return registro,salida"
   ]
  },
  {
   "cell_type": "code",
   "execution_count": 3,
   "id": "0ffdf6ae",
   "metadata": {},
   "outputs": [],
   "source": [
    "def flujo(semilla,tamano):\n",
    "    longitud=57\n",
    "    if len(semilla)==longitud:\n",
    "        flujo=[]\n",
    "        #Para el primer corrimiento\n",
    "        registro=np.zeros(longitud)\n",
    "        flujo.append(recorrer(semilla,registro,longitud)[1])\n",
    "        #Para los siguientes corrimientos\n",
    "        for i in range(tamano-1):\n",
    "            semillaaux=''\n",
    "            for i in range(longitud):\n",
    "                semillaaux=str(int(recorrer(semilla,registro,longitud)[0][longitud-i-1]))+semillaaux\n",
    "            semilla=semillaaux\n",
    "            registro=recorrer(semilla,registro,longitud)[0]\n",
    "\n",
    "            flujo.append(recorrer(semilla,registro,longitud)[1])\n",
    "        return(flujo)\n",
    "    else: print('El tamaño de la semilla no corresponde al grado del polinomio asociado al LFSR',len(semilla))"
   ]
  },
  {
   "cell_type": "code",
   "execution_count": 4,
   "id": "91ed28bf",
   "metadata": {},
   "outputs": [],
   "source": [
    "#Polinomio asociado X**32+X**7+X**6+X**2+1\n",
    "def recorrer1(semilla,registro,longitud):\n",
    "    #Creamos el registro con la semilla dada\n",
    "    for i in range(longitud):\n",
    "        registro[i]=int(semilla[i])\n",
    "    #creamos un registro auxiliar en el cual se recorrerá el original\n",
    "    registroaux=np.zeros(longitud)\n",
    "    #Recorremos los bits a la derecha, menos el primero\n",
    "    for i in range(longitud-1):\n",
    "        registroaux[i+1]=int(registro[i])\n",
    "    #agregamos la primera casilla dependiendo del polinomio\n",
    "    s32XORs7=xor(registro[31],registro[6])\n",
    "    s6XORs32XORs7=xor(s32XORs7,registro[5])\n",
    "    s2XORs6XORs32XORs7=xor(s6XORs32XORs7,registro[1])\n",
    "    registroaux[0]=s2XORs6XORs32XORs7\n",
    "    #sale el último bit del registro\n",
    "    salida=int(registro[-1])\n",
    "    #cambiamos el auxiliar al original\n",
    "    registro=registroaux\n",
    "    return registro,salida"
   ]
  },
  {
   "cell_type": "code",
   "execution_count": 5,
   "id": "65145bbc",
   "metadata": {},
   "outputs": [],
   "source": [
    "def flujo1(semilla,tamano):\n",
    "    longitud=32\n",
    "    if len(semilla)==longitud:\n",
    "        flujo=[]\n",
    "        #Para el primer corrimiento\n",
    "        registro=np.zeros(longitud)\n",
    "        flujo.append(recorrer1(semilla,registro,longitud)[1])\n",
    "        #Para los siguientes corrimientos\n",
    "        for i in range(tamano-1):\n",
    "            semillaaux=''\n",
    "            for i in range(longitud):\n",
    "                semillaaux=str(int(recorrer1(semilla,registro,longitud)[0][longitud-i-1]))+semillaaux\n",
    "            semilla=semillaaux\n",
    "            registro=recorrer1(semilla,registro,longitud)[0]\n",
    "\n",
    "            flujo.append(recorrer1(semilla,registro,longitud)[1])\n",
    "        return(flujo)\n",
    "    else: print('El tamaño de la semilla no corresponde al grado del polinomio asociado al LFSR',len(semilla))"
   ]
  },
  {
   "cell_type": "code",
   "execution_count": 6,
   "id": "502fb89e",
   "metadata": {},
   "outputs": [],
   "source": [
    "#Polinomio asociado X**130+X**3+1\n",
    "def recorrer2(semilla,registro,longitud):\n",
    "    #Creamos el registro con la semilla dada\n",
    "    for i in range(longitud):\n",
    "        registro[i]=int(semilla[i])\n",
    "    #creamos un registro auxiliar en el cual se recorrerá el original\n",
    "    registroaux=np.zeros(longitud)\n",
    "    #Recorremos los bits a la derecha, menos el primero\n",
    "    for i in range(longitud-1):\n",
    "        registroaux[i+1]=int(registro[i])\n",
    "    #agregamos la primera casilla dependiendo del polinomio\n",
    "    s130XORs3=xor(registro[129],registro[2])\n",
    "    registroaux[0]=s130XORs3\n",
    "    #sale el último bit del registro\n",
    "    salida=int(registro[-1])\n",
    "    #cambiamos el auxiliar al original\n",
    "    registro=registroaux\n",
    "    return registro,salida"
   ]
  },
  {
   "cell_type": "code",
   "execution_count": 7,
   "id": "fd0db29c",
   "metadata": {},
   "outputs": [],
   "source": [
    "def flujo2(semilla,tamano):\n",
    "    longitud=130\n",
    "    if len(semilla)==longitud:\n",
    "        flujo=[]\n",
    "        #Para el primer corrimiento\n",
    "        registro=np.zeros(longitud)\n",
    "        flujo.append(recorrer2(semilla,registro,longitud)[1])\n",
    "        #Para los siguientes corrimientos\n",
    "        for i in range(tamano-1):\n",
    "            semillaaux=''\n",
    "            for i in range(longitud):\n",
    "                semillaaux=str(int(recorrer2(semilla,registro,longitud)[0][longitud-i-1]))+semillaaux\n",
    "            semilla=semillaaux\n",
    "            registro=recorrer2(semilla,registro,longitud)[0]\n",
    "\n",
    "            flujo.append(recorrer2(semilla,registro,longitud)[1])\n",
    "        return(flujo)\n",
    "    else: print('El tamaño de la semilla no corresponde al grado del polinomio asociado al LFSR',len(semilla))"
   ]
  },
  {
   "cell_type": "code",
   "execution_count": 9,
   "id": "bc9b7306",
   "metadata": {},
   "outputs": [],
   "source": [
    "#cifrador de flujo usando el generador de Geffe\n",
    "def Geffe(tamano):\n",
    "    salida=''\n",
    "    semilla=Semilla(57)\n",
    "    a1=flujo(semilla,tamano)\n",
    "    semilla=Semilla(32)\n",
    "    a2=flujo1(semilla,tamano)\n",
    "    semilla=Semilla(130)\n",
    "    a3=flujo2(semilla,tamano)\n",
    "    #print(a1,a2,a3)\n",
    "    #La salida del generador:\n",
    "    for i in range(tamano):\n",
    "        b=xor((a1[i] and a2[i]),((not a1[i]) and a3[i]))\n",
    "        salida=str(b)+salida\n",
    "    return(salida)"
   ]
  },
  {
   "cell_type": "code",
   "execution_count": 10,
   "id": "d317c0ec",
   "metadata": {},
   "outputs": [],
   "source": [
    "def ascii_a_binario(letra):\n",
    "    # Extraer su valor entero\n",
    "    valor = ord(letra)\n",
    "    # Convertirlo a binario\n",
    "    return \"{0:08b}\".format(valor)"
   ]
  },
  {
   "cell_type": "code",
   "execution_count": 11,
   "id": "2e5c73ee",
   "metadata": {},
   "outputs": [],
   "source": [
    "def binario_a_ascii(binario):\n",
    "    # Convertir binario a decimal\n",
    "    valor = int(binario, 2)\n",
    "    # Convertir el decimal a su representación ASCII\n",
    "    return chr(valor)"
   ]
  },
  {
   "cell_type": "code",
   "execution_count": 12,
   "id": "55677046",
   "metadata": {},
   "outputs": [],
   "source": [
    "#Un texto completo a binario\n",
    "def TextoBinario(texto):\n",
    "    conversion=''\n",
    "    for i in range(len(texto)):\n",
    "        conversion=conversion+ascii_a_binario(texto[i])\n",
    "    return conversion"
   ]
  },
  {
   "cell_type": "code",
   "execution_count": 13,
   "id": "b411add5",
   "metadata": {},
   "outputs": [],
   "source": [
    "#Cadena binaria a texto\n",
    "def BinarioTexto(binario):\n",
    "    texto=''\n",
    "    longitud=int(len(binario)/8)\n",
    "    for i in range(longitud):\n",
    "        aux=binario_a_ascii(binario[0+8*i:8+8*i])\n",
    "        texto=aux+texto\n",
    "    return texto[::-1]"
   ]
  },
  {
   "cell_type": "code",
   "execution_count": 16,
   "id": "cdc2afd6",
   "metadata": {},
   "outputs": [],
   "source": [
    "#Encriptar mediante geff xor con la clave\n",
    "def Encriptar(string):\n",
    "    stringBinario=TextoBinario(string)\n",
    "    llave=Geffe(len(stringBinario))\n",
    "    encriptado=''\n",
    "    for i in range(len(stringBinario)):\n",
    "        encriptado=encriptado+str(xor(llave[i],stringBinario[i]))\n",
    "    textoEncriptado=BinarioTexto(encriptado)\n",
    "    #print(encriptado)\n",
    "    #print(stringBinario)\n",
    "    llaveA=BinarioTexto(llave)\n",
    "    print('La llave en binario es: ',llave)\n",
    "    return llaveA,textoEncriptado"
   ]
  },
  {
   "cell_type": "code",
   "execution_count": 17,
   "id": "3787a755",
   "metadata": {},
   "outputs": [],
   "source": [
    "#Decifrador mediante llaver xor mensaje encriptado\n",
    "def Desencriptar(llave,textoEncriptado):\n",
    "    binarioString=TextoBinario(textoEncriptado)\n",
    "    llave=TextoBinario(llave)\n",
    "    #print(binarioString)\n",
    "    desifrado=''\n",
    "    for i in range(len(binarioString)):\n",
    "        desifrado=desifrado+str(xor(llave[i],binarioString[i]))\n",
    "    #print(desifrado)\n",
    "    textoDesifrado=BinarioTexto(desifrado)\n",
    "    return textoDesifrado"
   ]
  },
  {
   "cell_type": "code",
   "execution_count": 28,
   "id": "8ddf2068",
   "metadata": {},
   "outputs": [
    {
     "name": "stdout",
     "output_type": "stream",
     "text": [
      "La llave en binario es:  0011100101001010100011101100100001100001111001111111011010111011011010001000000000101001110100100011100111010101101110000101111110010010111001011010011101000110011100001011101011001001011010010001101000011011001000000100101111101001010110010111010001101010110110001111001000110001000111010111100111111001011011110001101000001001101010010110010011000101001011010101101010111010110110010010001110010000111000111110111110101111010100001010010011011010000000110110101001111010010110110111000110000110101011011100010100001100110001100100011110011101101010001101101110110000100101011110010010011011010110110010110101001001111100110110000001011101000110001110100010110011010010000110100010010010110010000000011100001001101001010100110010110000110111111011110011010110111010000110011100101011000000111101010110001000010101100100000100001111011000100010101011011111001100111010111111110001001000100100011111100110000011101010000001111011111010101110001100011000110110100001000001010111010000101100110111111000100000110100000101001110001010011010011010110011101111000101010111010011010101010010101111111100101010110101110011100100100011100110111101110100111011001001010110010001100110100000010100010000111010010001000000111001110001110100110101100101110010110011010101010101001110111101000010011100000101111001011010001011110000001110011110110000100100110100101110101001000101110101010000101101000110110010000111101110010001100001101111101101000011011011011010001101001011111110111110001010000110101010101011001100000001101100110001111101001110100101001001110011100110011111110100101001111001010000000101001010111010010000000111101111011100000101101011011110010101000000101111110001110011001001011010001110000100110000010101111100010010111110110000000001100010001110111001001001011011100011110100010111001011011101000100001101101010111011001111000011000001010011000111111111000100010111110110000110010001101100011110110101001010000110101010110100110100100001111000110001100101010111111100110011100011010100111011011110100111101010110110101110000011000001100010011011011101010111011111011111111101101110101010100010101000111011111001110001101110001011111011111000000111110111111110011001100111011111000011001010010110110011000111011101111010101111110000000111110001100001011011100000010000101111000011001101001110110110111101010111101101011010001000110101010010000001100010110101000011000010100001100011101010011111011111101010100111000100001100101111101011000010011111111100110011101110101001101111010101110000111010100101010111000011010100110111010011011111001111110110010001010001111110000110101110110010110101000000011000010101110111001001101001100111111111111001001101110000000010000000100010111010111001000010010111101101000011010110111011111101101011100001000000010011001101010001011100100101101110001011001001001001001111011110101001110100111010010111110010100000000111000001011010101111111000010100101010011111000000111100011101100000001000000111010101101100110110011010110010111000011111010001101000100000101010110101001111100110010011101110100101101101110011011100100111010100110110011111010011101011110000001011011110110101101010010010010111000101001110011100101011000110000100000101110011010011100111011010101010000100010110110101000001110110110000010011010010100101011000100011001100110111100110110111111010101101000011011100001000011010111011111110010110100101101100110011000100101100010000101001101110100111010110110110111101110010110101110110011101101111100001111100000011010111101000101101111110111010000100100110110110010101101101111010100100010011011100111000011110111110101111010100101000001001010001001110100110111111000111000010001101001100000011000000101011111011000110111100000000101101010110010101001010101000111110001101010110111011011110101001011111001000111011101000111010011101010110100000000100010101000111001100100110010001000011000000010011110100100110101010100100010000111011111000011011111100100011101101011100001101001110101011011010111011100111101001000000011101111110110111111111111001110101000111011110001010001101101010111001000111010101011000001000000001010001111101011000000001110011100101011010111011001110010101010110000010110111111010100001101101001000000010010001110000011100010001110100101011101001011110100111111011111000111111110001001000110001110011011000000010110101000001100001011001100010101001001100100010010101110101110101001101101011010001000111011110100110000011000000111000010000010001001011111110101001111011111100000000000001011000011010001100000101010011000100111001101011101011010110000100111010011100000100010101000001101111011000100101100000101001111011101010010010000101010000111100001101110110011011111111111001101100000001101000111110111101010111101100100100110110011111010111110111111110111100100101100101101101110101010110001111010111100001111000010110010101000110010000100000011010001010001110110011101101010000010110000001111011101000111101101100011000010011000010101101111010000101001110111100101000010111000101101110101111010100101001100010011011100001100101011111011101101100010101100110111101101011100110101110000101011001100010100101110000001001010100001101011101101111011111100011101100001111000001111011000111111111111011010011110100111010000110110010111001010110101000011100101111011001011100101011100110110110010001101010110111000111110111101001100010011101001110110110110110110110101111011010100110111000000111100110101011110011011101001000110010011000011010011111100101001010111011110010000100111011101111111110100000100011101100100001110001010101100011001100101001011101000100010110010000101100010101111111010110111100011100011101010111111110010110111100011001000001111111010101011101001101111010110010100001011100101100110011110000011110000111110101100111100110000111010110110001011010001111011011000100001001011010010001110110101000110100000101000010010010101011011011100101100101110100010011100111000110011010000110011001101101100010010000001011001101011111011100111010101100010000111111111010101010001110101100110000011101110000110010101010010011100101011011000101001001000100111011000101001010000001111111001000101101000101010110100110101000000100011110011010101110000010100110010001000101010101100111101000011010101100000110110110011010110111110110000111001010010111000011101001011010100010101010111001101010001011010010000010100001010001100111111101110001111100111000000100001110100101101001000100000000000001110001000110001001110011110011100011110001011110000011001101111101111101001100001011101000001110010101001010100011010111010000111110000111101100101001110011010110000000111001111010110111010100000001000100100111001000000110011000100110101100100110000001011100001101110011100010011011100011110100111010010001110100101001000000000011010100000110010011100010110011110010000010010011011001010111001010101111010100100001010101100110100000101111100110111001001100000101011010011110111110101111110000110001001110100101110011011111100111100110010101110001011011100011101010110101000101110100010011111100000000011100011101011101000001110101000110101111011010101101000010010111000011001111101111010100010100100001111010000010000101100011010110000010010001000000001011110100101101110000001100011000111100001111001001110111001100010011011011110101100101010011010100011010100000000100001001001101000000101000011110010100101101101100111011000110111000110100001000001010010010111000110001010001011110101010001110000000010111001111000100100111001010000000111011011000001100010111111110100001100100010111001111100100001001001100100010100110011010001010110101011101101000010111001100011011010100100011001100110110111010110101000000110001101010111110001110110111011011001000001100011011001110010000000001001010101101100111110001110110101001011110111101000100100010001011000110111101011101001100000010000000110100100110111100100011111010110011101010110001111100010111001100000001111011100001001101111100001100111110011110110001010000000010101100010001100010000101011110001101000110110101011101010111110011111010011100000010010010010011001100101100101011101001000000000101001101101111100110011001010010000100000011101000110010010001000100101100011001000000000101001100011011000110001100010101001001011011001010101111010011110110011101100111110100010010100111011001011000110101010010001111011111011101010011111000001010000100000101000000110100101101110001110101010011110100011111001001100010110010000000111111011000010000010010001101100010100100100000010101101101001101010011110001101010111010000001110111001110111110110110010110110110100111100001001100001011011000001010000101010101111000101001001010100010011001011000001010101000001000101100001010110110101101010100111111011100100001001001100001110001010101110000001011111001110001101100001111010011100101010101010101001000101011110110001100111011100110100100110001000100000000010111001111010010100101110011000000000100010010001001100001011011010001100100000011110011110101100011111100010011110010001011000100011010011101100100101111000000010000111000011010000101111010101101011000001010010010100101101011110000010101000111100001011111010101101110110101100001110100110001000100111001110000101101100001111100110000110100011111001010010010001001111100111110101100010011000001000010010110111010010100010001001100110111110111100110010100110101000101001100111111111000101011010010011111101111110100101110101111110010001110011111111010111100100001111111100010011111001101000101010010110100001011010010100111100100001000010001001100101011100111001000100110111001010110100001110100111011001100111110011010001010101000111101100110000111010001100000000111010110000011010001111001101110110011110001010011100111001100000101001110100010000101101000011001010111001100010011111111001011000100011101111111011111100010001100111000000000110100111110000001101001101110100110001101101011110011110011010010001010001111110101001000011100010011001111111001011011110111101101010111101001100001000010101101001010000111010100001010001111101010101110010100010101111111101010000100110011101011011001001011010001101111100010001000100001100001101001110111111011111001000001001101101010011110101011010111111000000010100001000111000010001100111001100110001110111000001000010110000000000011011011001010001001010011110111101011010100010011000111011110000011101111100000100001010111010110100100001111111110100101000101100100111010001010100101101011101110101010011010010110011110001010010001101110111101111110011001101010001100100111000000100110111101011100000111100000101001001111011111110100110111110100110110111111001000101101111111100110110010100100110001010111111100100001000010101001011010100100100100111011000010100001001110101001101101101100010111101110101101010101110010010110100101000011100110100101011110100000101011010010000000011010100010000100110000001010100100101101011101001110100101110111000011011000101010010101010000110010111100110001000000101111010011000110010100101001000111011101000001010101010011101111101101011110101001000011001011000111011011111010000000101000010000000010101101101100011110000111011010110010110001011001101010000001101001101111011000111000101001111101001000111101011000110111011101101000110010011000100101100110010110000010001001011011001101010111011001010101011101010101010111001000111110000100001101000001010010101000001001111000111101010010011000110110011000010100000100011011010110101110101110101110110111101100001111001001101110111110000000010010011101011101010001101110110011111000100001000010010110000010110110101110001000101000110111\n"
     ]
    },
    {
     "data": {
      "text/plain": [
       "('9J\\x8eÈaçö»h\\x80)Ò9Õ¸_\\x92å§FpºÉi\\x1a\\x1b KéYtjØò1\\x1dyùo\\x1a\\t©dÅ-ZºÙ#\\x90ãï¯P¤Ú\\x03jz[q\\x86\\xadÅ\\x0cÆG\\x9d¨Û°\\x95ä\\x9b[-Ió`]\\x18è³Hh\\x92È\\x07\\t¥L°ß¼Öèg+\\x03Õ\\x88VA\\x0fb*ß3¯ñ\"Gæ\\x0e\\xa0{êã\\x18Ú\\x10WBÍø\\x83AN)¦³¼UÓU+ü«\\\\ä\\x8eotì\\x95\\x91\\x9a\\x05\\x10é\\x109ÇMeË5U;Ð\\x9c\\x17\\x96\\x8bÀç°\\x93K©\\x17T-\\x1b!îF\\x1bí\\r¶\\x8d/ï\\x8a\\x1aªÌ\\x06Ì}:Rs\\x99ý)å\\x01Jé\\x01ïpZÞT\\x0bñÌ\\x96\\x8e\\x13\\x05|Kì\\x01\\x88îIn=\\x17-Ñ\\r«³Ã\\x051ÿ\\x11}\\x86FÇµ(j´Ò\\x1e1\\x95\\x7f3\\x8dNÞ\\x9e\\xad®\\x0c\\x18\\x9buwßöê¢£¾q¸¾ø\\x1f\\x7f\\x99\\x9dðÊ[1Ýêü\\x07Æ\\x16àBðÍ;oWµ¢5H\\x18µ\\x0c(c©÷ê\\x9cC/¬\\'üÎêoW\\x0e¥\\\\57MóöE\\x1f\\x86»-@a]É¦\\x7fù7\\x00\\x80\\x8b®B^ÐÖïÚá\\x013Qr[\\x8b$\\x93Þ§N\\x97Ê\\x01Ájþ\\x14©ð<v\\x02\\x07VÍ\\x9aË\\x87Ñ¢\\nµ>dî\\x96ÜÜ\\x9dM\\x9fN¼\\x0b{Z\\x92\\\\S\\x9c¬a\\x05Í9Ú¨Eµ\\x07l\\x13JV#3y·êÐÜ!®þZ[3\\x12Ä)ºu¶÷-vvø|\\rz-û¡&Ù[z\\x9178{ëÔ\\xa0\\x94N\\x9bñÂ4ÀÀ¯±¼\\x02Õ\\x95*\\x8f\\x8d[·©|\\x8eèéÕ\\xa0\\x11QÌ\\x99\\x10ÀOIª\\x91\\x0eøoÈípÓ«k¹é\\x01ß·ÿ\\x9dGx£jäuX \\x14}`\\x1cåk³\\x95X-ú\\x86Ò\\x02G\\x07\\x11Òº^\\x9f¾?Ä\\x8cs`-A\\x85\\x98©2%uÔÚÑ\\x1dé\\x83\\x03\\x84\\x11/ê{ð\\x00XhÁS\\x13\\x9aëXN\\x9c\\x11PobX)î¤\\x85CÃvoþl\\x06\\x8f½^É6}}þòYmÕc×\\x87\\x85\\x95\\x19\\x08\\x1a(ìíA`{£Û\\x18L+z\\x14ï(\\\\[¯R\\x98\\x9b\\x86WÝ±Y½®k\\x85f)p%C]½øì<\\x1eÇÿ´ôèl¹Z\\x87/eÊæÙ\\x1a·\\x1fzbtí¶Úö¦ày«ÍÒ2a§å+¼\\x84îÿ\\xa0\\x8eÈqV3)tE\\x90±_ÖñÇWùo\\x19\\x07õ]7¬¡rÌðx}g\\x98u±höÄ%¤v£ABJ¶å\\x97Dç\\x19¡\\x99¶$\\x0b5÷:±\\x0fú¨ë0w\\x0cªNVÅ$NÅ(\\x1fÈ´U¦\\xa0G\\x9a¸)\\x91\\x15YèjÁ¶k}\\x87)péj*¹¨´\\x82\\x85\\x19ýÇÎ\\x04:ZD\\x00\\x1cF\\'<ãÅàÍ÷Ó\\x0b\\xa0åJ\\x8dt>\\x1eÊsX\\x0ezÝ@D\\x9c\\x81\\x98\\x9aÉ\\x81pÜân=:GJ@\\rA\\x93\\x8b<\\x82M\\x95Ê½HU\\x9a\\x0bæäÁZ{ëðÄés~y\\x95Å¸êÔ]\\x13ð\\x07\\x1dt\\x1dF½«B\\\\3ïQHz\\x08XÖ\\t\\x10\\x0bÒÜ\\x0ccÃÉÜÄÛÖTÔj\\x01\\t4\\n\\x1eRÛ;\\x1b\\x8d\\x08).1Eê\\x8e\\x01sÄ\\x9c\\xa0;`Åþ\\x86EÏ\\x90\\x93\"\\x99¢µv\\x85ÌmHÌÛ\\xad@Æ¯\\x8eÝ²\\x0clä\\x01*ÙñÚ\\x97½\\x12\"ÆõÓ\\x02\\x03I¼\\x8f¬êÇÅÌ\\x07¸MðÏ\\x9eÅ\\x00¬F!^4m]_>\\x9c\\t$Ì²º@\\x14Ûæe!\\x03£$D±\\x90\\x051±\\x8cT\\x96Ê½=\\x9d\\x9fD§e\\x8dR=÷Sà¡\\x05\\x03KqÕ=\\x1f&,\\x80ý\\x84\\x126) VÓSÆ®\\x81Üï¶[iá0¶\\n\\x15^)*&X*\\x82,+kTýÈI\\x87\\x15p/\\x9cl=9UT\\x8aö3¹¤Ä@\\x17=)s\\x00D\\x89\\x85´d\\x0f=cñ<\\x8b\\x11§d¼\\x048h^\\xad`¤¥¯\\x05G\\x85õnÖ\\x1d1\\x13\\x9c-\\x87Ì4|¤\\x89óë\\x13\\x04%ºQ\\x137Þe5\\x14Ïø\\xad\\'ïÒëò9þ¼\\x87ø\\x9f4T´-)ä!\\x13+\\x9c\\x89¹Z\\x1d;3æ\\x8a£Ù\\x87F\\x01Ö\\r\\x1enÏ\\x14ç0S¢\\x16\\x86W1?Ë\\x11ßß\\x88Î\\x00ÓàiºckÏ4\\x8a?R\\x1cLþ[ÞÕé\\x84+J\\x1dB\\x8fªå\\x15þ¡3\\xad\\x92Ñ¾\"!\\x86\\x9dûä\\x13jzµø\\n\\x11Â3\\x99\\x8eà\\x85\\x80\\r²\\x89OzÔLw\\x83¾\\x08WZCþ\\x94Y:*Zî©¥\\x9e)\\x1b½ù\\x9a\\x8c\\x9c\\t½px)=ý7ÓoÈ·ù²\\x93\\x15ü\\x84*Z\\x92NÂ\\x84êm±{\\xadW%¥\\x0ei^\\x82´\\x80j!0*K]:]Ãb¥PËÌ@½1\\x94¤wAU;íz\\x90Ë\\x1d¾\\x80¡\\x00\\xad±áÚË\\x16j\\x06\\x9bØâ\\x9fHõ\\x8dÝ£&%\\x99`\\x89lÕÙUÕW#á\\r\\x05*\\tãÔ\\x98Ù\\x85\\x04mk®»{\\x0f&ï\\x80I×Q»>!\\t`¶¸\\x8a7',\n",
       " 'q/ï¾\\x08\\x94\\x9fß\\r\\xa0Y§[¹Ñ<aÅÔ3\\x03\\x9a»\\x0cinL?\\x88=\\x1b\\x19ôÒRh\\x00\\x98Oo}À\\x08¬I;ÞùB°\\x8f\\x8e\\x8f8Ë¨bJ\\x1e>QôÈ¶cª1øÚûÕö\\x91ú8D&\\x9d\\x05.8\\x8cÖh\\x04óèaäÖ%Ó¾\\x9c¯È\\x0bJ#¼æ1$a\\x0bO\\xadÞÎÑJ.\\x9ca\\x80\\n\\x9f\\x868ªb8,¹\\x97£2+\\tÃËÈ0½1B\\x99Ù=\\x8a\\xa0O\\'\\x85û±ÿhr\\x88b^¨aE®YuO¢ýu÷á¯ÇÔökár5[rR\\x87\"~Á-Ðâ]\\x82ëv\\x8aµ&¼\\x12Y=Së\\x94N\\x90s%\\x9anÃP;ª&j\\x9b£¶ârv\\\\(\\x9eìü\\x87*\\x0fN7I´-Êß¤p_\\x90b]ë\\'³ÐE\\x8bÀ»}^æ_Cø<·íÙÏ\\x7f8ê\\x00\\x12ÿ\\x9a\\x85Ñ\\x83Ì\\x14ÛÖ\\x99e\\x1eëò\\x9eê:Cº\\x9f\\x91b¨b\\x81,\\x94¢\\x1b\\x1e\"Ð\\x82F=k\\x95~M\\x10Ü\\x9b\\x9eý\\'@ß\\x07\\x92¡Ê\\x1f8jH=[\\x17>\\x86\\x84\"vô\\x9bI%A)¨Ê_\\x9fXríê\\x80b\\x10¿ö\\x80¸\\x92uR?\\x06>§\\x04ö²\\x87§ï£u®J\\x9aqÅÐQ\\x9fvh2¢º£î«Í*ÄK\\x01Îæ®³ó9ðnÚ~\\x1e(ó|2øÃ\\x11q¬]µ\\x885ÚuLz$1F]\\x10Ò\\x98¿¯\\x01×Þ<¶@{§FÉUÒ\\x92\\r\\x02\\x19\\x9c\\x13-\\x1fAÛÌS·?\\x15½\\x17\\\\\\x1eË¹Áú+é\\x90âEµ¥\\x83\\x91Úk»ôFâè5ÃÌP®\\x89\\x9d§Á{>ìõqà.=Ïÿm\\x91\\x9c¦Í\\x14¶\\x8b\\x08Ð\\x8cs«Øßó½\\x15Æ\\x18\\x8bU<E4\\x10\\x01h\\x80\\x06Rá1N\\x95õòv5fe³Ô:ð\\x9e[¡¬\\x19\\x15^5ìþÀQD\\x07ô¿½=\\x84jwëu@Ê\\x1f\\x95 5\\t¯6aûË*\\'ûd\"\\x00\\x119\\x07Îð÷\"°V\\x19\\x9f\\x1eoîÎ~\\xadß\\x1e\\x1c\\x9a\\x93*M±\\x06÷îëá|fnG\\x9fÁa\\x13\\x1e\\x83¿}?H\\x0fv\\x9dA¯{Þ\\'ý»ê6ýå+ÜÀ\\x18ã\\t[\\x1dD\\'<\\x9d\\x9c\\x89O}²\\x9dÝ\\x91\\x9a\\x18Øz÷@\\x17êª¸jÛ~\\x19\\x07T\\x85×¹\\x1bÇÀ\\x0cÅí¡[\\x06Ë\\x8a\\x0bÒëÎ\\x8cÏâ§Q9U[\\x11&}Ð\\x7f£\\x9fç1\\x8c\\x01}f\\x988YØÎR¸\\x95\\x8b\\x0f\\x0eû\\x1a\\x91\\t\\x9aäHM\\x02Ì%-jÒ\\x80·\\'\\x06uÂìÚK+Z\\x87_Ãn\\x99Á\\x84^\\x16`\\x8a*3ål+¤^v»Ý1Ã\\x8cgéÑGþ5(\\x9d\\x0fá×\\x0f\\x18êÈ\\x03É\\x05LËÍ×oä9\\x88©¯$[60en(FH\\x8a³\\x81í\\x9a¦hÈ\\x8ajà\\x95M>¹\\x1a+z\\x1f°¡0õâùº¨¡\\x04½\\x8e\\x0bN\\x1a*£4b%üø\\x12Ê,ö£Üh%èb\\x88\\x87¨*\\x12\\x84\\x83ä\\x8d\\x16\\x12Yæ¬ß\\x86»}K¨+=\\x18|fÉÙ#2@\\x89>:\\x17i<·)tnò\\x90m\\x13¯¨¿¡û¥1ô\\tngBcl&²È;èf\\t[_$Êæd\\x01¶ýÍR\\x05«\\x8açe¬ÿþØ÷\\x82Ñ\\x13¥\\xa0\\x0ch¸¾Â2+Î®¹×,\\x1a\\x8dcX¸\\x92³øÓwQæ\\x8cóffiÐî\\x8c\\x9e¢ª¾êÙm\\x94ª¾¦iÞ%T7@\\x02.s\\x1eøfWìÖß`x´\\x95EBbÎT+Â°a^ßè1¶¢Ü\\x1dîö ÈEì\"Q\\x9e0\\x81Åd#(\\x1e»\\x1drÇ_\\xa0\\x14ü{BF\\x0ev\\x96=æÉä²\\x8aÄ:\\x05Í\\x10Úk5*[KH+Lí^F\\n0\\x9cè,ô5\\x11Kù\\x0fHX15ª\\x86RËÅä2rNF\\x1fv!û¥Ç\\r|I\\x06\\x9c]ø1Ã\\x01\\x9ca[\\x1d?Î\\tËËÊvgá\\x9c\\x08³oT}ÿDæ\\xa0Q\\x0f\\x84å\\x9a\\x85veIß\"3T±\\x0b\\x15w\\xa0\\x96ÉN\\x8c»\\x84\\x9c\\\\\\x8d\\x9cî\\x96öW=ÕAL\\x97\\x01vE¼ìÕzrIZ\\x81ïÍ÷§\\x13o·-z\\x0bïg\\x92CsÔsè#PUªbÿ²i½ \\xa0\\x89\\x0eÔ\\n\\r¦WëK;j-\\x8d{¬´\\x8díH+=\\'á\\x8a\\x94`\\x9b\\x81_Ì²¸ÐVDáï\\x9a\\x87z\\x99\\x14\\x95\\x81*u§Aðø\\x81æéþÜ©<\\x1fô/\\x18íÈa2(7\\x9búy_Dz\\x83ÜÉê@kÑ\\x90ùíÿ`N\\x1eXP\\x1d\\x99^¥\\x06»Þ\\nÜ½5¹÷^5²:°å\\x84\\x1e×\\x14ß:D\\x85b\\x08-¢Ñã\\x1f@SC$3_.ã\\x06Ì6®¾%ÓRýÅ\\x1b$&\\x1b\\x88Zù¥iÛçÓaÁÔ\\x92ú®xJcø\\xad\\x83ü!\\x9aã¸Ð\\x06Uö\\x0cà\\x02&´<¶6PÍ-h_j\\x8b»¸´dwM\\rOØ\\x12cC\\x9c\\xa0-²qÉ[Rf\\x0cÀÝø\\x19')"
      ]
     },
     "execution_count": 28,
     "metadata": {},
     "output_type": "execute_result"
    }
   ],
   "source": [
    "Encriptar('Heaviside publicó sus resultados, cuya utilidad a la hora de resolver ecuaciones de la física y la ingeniería hizo que pronto se extendieran. Sin embargo, el trabajo de Heaviside, formal y poco riguroso, atrajo las críticas de algunos matemáticos puristas que los rechazaron argumentando que sus resultados no podían surgir de tal forma. No obstante, el éxito del método hizo que pronto fuera adoptado por ingenieros y físicos de todo el mundo, de manera que, finalmente, atrajo la atención de cierto número de matemáticos tratando de justificar el método de manera rigurosa. Tras varias décadas de intentos, se descubrió que la Transformada descubierta por Laplace hacía un siglo no solo ofrecía un fundamento teórico al método de cálculo operacional de Heaviside, sino que además ofrecía una alternativa mucho más sistemática a tales métodos.Hacia principios del siglo XX, la transformada de Laplace se convirtió en una herramienta común de la teoría de vibraciones y de la teoría de circuitos, dos de los campos donde ha sido aplicada con más éxito. En general, la transformada es adecuada para resolver sistemas de ecuaciones diferenciales lineales con condiciones iniciales en el origen. Una de sus ventajas más significativas radica en que la integración y derivación se convierten en multiplicación y división. Esto transforma las ecuaciones diferenciales e integrales en ecuaciones polinómicas, mucho más fáciles de resolver.')"
   ]
  },
  {
   "cell_type": "code",
   "execution_count": 29,
   "id": "6b1ad581",
   "metadata": {},
   "outputs": [
    {
     "data": {
      "text/plain": [
       "'Heaviside publicó sus resultados, cuya utilidad a la hora de resolver ecuaciones de la física y la ingeniería hizo que pronto se extendieran. Sin embargo, el trabajo de Heaviside, formal y poco riguroso, atrajo las críticas de algunos matemáticos puristas que los rechazaron argumentando que sus resultados no podían surgir de tal forma. No obstante, el éxito del método hizo que pronto fuera adoptado por ingenieros y físicos de todo el mundo, de manera que, finalmente, atrajo la atención de cierto número de matemáticos tratando de justificar el método de manera rigurosa. Tras varias décadas de intentos, se descubrió que la Transformada descubierta por Laplace hacía un siglo no solo ofrecía un fundamento teórico al método de cálculo operacional de Heaviside, sino que además ofrecía una alternativa mucho más sistemática a tales métodos.Hacia principios del siglo XX, la transformada de Laplace se convirtió en una herramienta común de la teoría de vibraciones y de la teoría de circuitos, dos de los campos donde ha sido aplicada con más éxito. En general, la transformada es adecuada para resolver sistemas de ecuaciones diferenciales lineales con condiciones iniciales en el origen. Una de sus ventajas más significativas radica en que la integración y derivación se convierten en multiplicación y división. Esto transforma las ecuaciones diferenciales e integrales en ecuaciones polinómicas, mucho más fáciles de resolver.'"
      ]
     },
     "execution_count": 29,
     "metadata": {},
     "output_type": "execute_result"
    }
   ],
   "source": [
    "Desencriptar('9J\\x8eÈaçö»h\\x80)Ò9Õ¸_\\x92å§FpºÉi\\x1a\\x1b KéYtjØò1\\x1dyùo\\x1a\\t©dÅ-ZºÙ#\\x90ãï¯P¤Ú\\x03jz[q\\x86\\xadÅ\\x0cÆG\\x9d¨Û°\\x95ä\\x9b[-Ió`]\\x18è³Hh\\x92È\\x07\\t¥L°ß¼Öèg+\\x03Õ\\x88VA\\x0fb*ß3¯ñ\"Gæ\\x0e\\xa0{êã\\x18Ú\\x10WBÍø\\x83AN)¦³¼UÓU+ü«\\\\ä\\x8eotì\\x95\\x91\\x9a\\x05\\x10é\\x109ÇMeË5U;Ð\\x9c\\x17\\x96\\x8bÀç°\\x93K©\\x17T-\\x1b!îF\\x1bí\\r¶\\x8d/ï\\x8a\\x1aªÌ\\x06Ì}:Rs\\x99ý)å\\x01Jé\\x01ïpZÞT\\x0bñÌ\\x96\\x8e\\x13\\x05|Kì\\x01\\x88îIn=\\x17-Ñ\\r«³Ã\\x051ÿ\\x11}\\x86FÇµ(j´Ò\\x1e1\\x95\\x7f3\\x8dNÞ\\x9e\\xad®\\x0c\\x18\\x9buwßöê¢£¾q¸¾ø\\x1f\\x7f\\x99\\x9dðÊ[1Ýêü\\x07Æ\\x16àBðÍ;oWµ¢5H\\x18µ\\x0c(c©÷ê\\x9cC/¬\\'üÎêoW\\x0e¥\\\\57MóöE\\x1f\\x86»-@a]É¦\\x7fù7\\x00\\x80\\x8b®B^ÐÖïÚá\\x013Qr[\\x8b$\\x93Þ§N\\x97Ê\\x01Ájþ\\x14©ð<v\\x02\\x07VÍ\\x9aË\\x87Ñ¢\\nµ>dî\\x96ÜÜ\\x9dM\\x9fN¼\\x0b{Z\\x92\\\\S\\x9c¬a\\x05Í9Ú¨Eµ\\x07l\\x13JV#3y·êÐÜ!®þZ[3\\x12Ä)ºu¶÷-vvø|\\rz-û¡&Ù[z\\x9178{ëÔ\\xa0\\x94N\\x9bñÂ4ÀÀ¯±¼\\x02Õ\\x95*\\x8f\\x8d[·©|\\x8eèéÕ\\xa0\\x11QÌ\\x99\\x10ÀOIª\\x91\\x0eøoÈípÓ«k¹é\\x01ß·ÿ\\x9dGx£jäuX \\x14}`\\x1cåk³\\x95X-ú\\x86Ò\\x02G\\x07\\x11Òº^\\x9f¾?Ä\\x8cs`-A\\x85\\x98©2%uÔÚÑ\\x1dé\\x83\\x03\\x84\\x11/ê{ð\\x00XhÁS\\x13\\x9aëXN\\x9c\\x11PobX)î¤\\x85CÃvoþl\\x06\\x8f½^É6}}þòYmÕc×\\x87\\x85\\x95\\x19\\x08\\x1a(ìíA`{£Û\\x18L+z\\x14ï(\\\\[¯R\\x98\\x9b\\x86WÝ±Y½®k\\x85f)p%C]½øì<\\x1eÇÿ´ôèl¹Z\\x87/eÊæÙ\\x1a·\\x1fzbtí¶Úö¦ày«ÍÒ2a§å+¼\\x84îÿ\\xa0\\x8eÈqV3)tE\\x90±_ÖñÇWùo\\x19\\x07õ]7¬¡rÌðx}g\\x98u±höÄ%¤v£ABJ¶å\\x97Dç\\x19¡\\x99¶$\\x0b5÷:±\\x0fú¨ë0w\\x0cªNVÅ$NÅ(\\x1fÈ´U¦\\xa0G\\x9a¸)\\x91\\x15YèjÁ¶k}\\x87)péj*¹¨´\\x82\\x85\\x19ýÇÎ\\x04:ZD\\x00\\x1cF\\'<ãÅàÍ÷Ó\\x0b\\xa0åJ\\x8dt>\\x1eÊsX\\x0ezÝ@D\\x9c\\x81\\x98\\x9aÉ\\x81pÜân=:GJ@\\rA\\x93\\x8b<\\x82M\\x95Ê½HU\\x9a\\x0bæäÁZ{ëðÄés~y\\x95Å¸êÔ]\\x13ð\\x07\\x1dt\\x1dF½«B\\\\3ïQHz\\x08XÖ\\t\\x10\\x0bÒÜ\\x0ccÃÉÜÄÛÖTÔj\\x01\\t4\\n\\x1eRÛ;\\x1b\\x8d\\x08).1Eê\\x8e\\x01sÄ\\x9c\\xa0;`Åþ\\x86EÏ\\x90\\x93\"\\x99¢µv\\x85ÌmHÌÛ\\xad@Æ¯\\x8eÝ²\\x0clä\\x01*ÙñÚ\\x97½\\x12\"ÆõÓ\\x02\\x03I¼\\x8f¬êÇÅÌ\\x07¸MðÏ\\x9eÅ\\x00¬F!^4m]_>\\x9c\\t$Ì²º@\\x14Ûæe!\\x03£$D±\\x90\\x051±\\x8cT\\x96Ê½=\\x9d\\x9fD§e\\x8dR=÷Sà¡\\x05\\x03KqÕ=\\x1f&,\\x80ý\\x84\\x126) VÓSÆ®\\x81Üï¶[iá0¶\\n\\x15^)*&X*\\x82,+kTýÈI\\x87\\x15p/\\x9cl=9UT\\x8aö3¹¤Ä@\\x17=)s\\x00D\\x89\\x85´d\\x0f=cñ<\\x8b\\x11§d¼\\x048h^\\xad`¤¥¯\\x05G\\x85õnÖ\\x1d1\\x13\\x9c-\\x87Ì4|¤\\x89óë\\x13\\x04%ºQ\\x137Þe5\\x14Ïø\\xad\\'ïÒëò9þ¼\\x87ø\\x9f4T´-)ä!\\x13+\\x9c\\x89¹Z\\x1d;3æ\\x8a£Ù\\x87F\\x01Ö\\r\\x1enÏ\\x14ç0S¢\\x16\\x86W1?Ë\\x11ßß\\x88Î\\x00ÓàiºckÏ4\\x8a?R\\x1cLþ[ÞÕé\\x84+J\\x1dB\\x8fªå\\x15þ¡3\\xad\\x92Ñ¾\"!\\x86\\x9dûä\\x13jzµø\\n\\x11Â3\\x99\\x8eà\\x85\\x80\\r²\\x89OzÔLw\\x83¾\\x08WZCþ\\x94Y:*Zî©¥\\x9e)\\x1b½ù\\x9a\\x8c\\x9c\\t½px)=ý7ÓoÈ·ù²\\x93\\x15ü\\x84*Z\\x92NÂ\\x84êm±{\\xadW%¥\\x0ei^\\x82´\\x80j!0*K]:]Ãb¥PËÌ@½1\\x94¤wAU;íz\\x90Ë\\x1d¾\\x80¡\\x00\\xad±áÚË\\x16j\\x06\\x9bØâ\\x9fHõ\\x8dÝ£&%\\x99`\\x89lÕÙUÕW#á\\r\\x05*\\tãÔ\\x98Ù\\x85\\x04mk®»{\\x0f&ï\\x80I×Q»>!\\t`¶¸\\x8a7',\n",
    " 'q/ï¾\\x08\\x94\\x9fß\\r\\xa0Y§[¹Ñ<aÅÔ3\\x03\\x9a»\\x0cinL?\\x88=\\x1b\\x19ôÒRh\\x00\\x98Oo}À\\x08¬I;ÞùB°\\x8f\\x8e\\x8f8Ë¨bJ\\x1e>QôÈ¶cª1øÚûÕö\\x91ú8D&\\x9d\\x05.8\\x8cÖh\\x04óèaäÖ%Ó¾\\x9c¯È\\x0bJ#¼æ1$a\\x0bO\\xadÞÎÑJ.\\x9ca\\x80\\n\\x9f\\x868ªb8,¹\\x97£2+\\tÃËÈ0½1B\\x99Ù=\\x8a\\xa0O\\'\\x85û±ÿhr\\x88b^¨aE®YuO¢ýu÷á¯ÇÔökár5[rR\\x87\"~Á-Ðâ]\\x82ëv\\x8aµ&¼\\x12Y=Së\\x94N\\x90s%\\x9anÃP;ª&j\\x9b£¶ârv\\\\(\\x9eìü\\x87*\\x0fN7I´-Êß¤p_\\x90b]ë\\'³ÐE\\x8bÀ»}^æ_Cø<·íÙÏ\\x7f8ê\\x00\\x12ÿ\\x9a\\x85Ñ\\x83Ì\\x14ÛÖ\\x99e\\x1eëò\\x9eê:Cº\\x9f\\x91b¨b\\x81,\\x94¢\\x1b\\x1e\"Ð\\x82F=k\\x95~M\\x10Ü\\x9b\\x9eý\\'@ß\\x07\\x92¡Ê\\x1f8jH=[\\x17>\\x86\\x84\"vô\\x9bI%A)¨Ê_\\x9fXríê\\x80b\\x10¿ö\\x80¸\\x92uR?\\x06>§\\x04ö²\\x87§ï£u®J\\x9aqÅÐQ\\x9fvh2¢º£î«Í*ÄK\\x01Îæ®³ó9ðnÚ~\\x1e(ó|2øÃ\\x11q¬]µ\\x885ÚuLz$1F]\\x10Ò\\x98¿¯\\x01×Þ<¶@{§FÉUÒ\\x92\\r\\x02\\x19\\x9c\\x13-\\x1fAÛÌS·?\\x15½\\x17\\\\\\x1eË¹Áú+é\\x90âEµ¥\\x83\\x91Úk»ôFâè5ÃÌP®\\x89\\x9d§Á{>ìõqà.=Ïÿm\\x91\\x9c¦Í\\x14¶\\x8b\\x08Ð\\x8cs«Øßó½\\x15Æ\\x18\\x8bU<E4\\x10\\x01h\\x80\\x06Rá1N\\x95õòv5fe³Ô:ð\\x9e[¡¬\\x19\\x15^5ìþÀQD\\x07ô¿½=\\x84jwëu@Ê\\x1f\\x95 5\\t¯6aûË*\\'ûd\"\\x00\\x119\\x07Îð÷\"°V\\x19\\x9f\\x1eoîÎ~\\xadß\\x1e\\x1c\\x9a\\x93*M±\\x06÷îëá|fnG\\x9fÁa\\x13\\x1e\\x83¿}?H\\x0fv\\x9dA¯{Þ\\'ý»ê6ýå+ÜÀ\\x18ã\\t[\\x1dD\\'<\\x9d\\x9c\\x89O}²\\x9dÝ\\x91\\x9a\\x18Øz÷@\\x17êª¸jÛ~\\x19\\x07T\\x85×¹\\x1bÇÀ\\x0cÅí¡[\\x06Ë\\x8a\\x0bÒëÎ\\x8cÏâ§Q9U[\\x11&}Ð\\x7f£\\x9fç1\\x8c\\x01}f\\x988YØÎR¸\\x95\\x8b\\x0f\\x0eû\\x1a\\x91\\t\\x9aäHM\\x02Ì%-jÒ\\x80·\\'\\x06uÂìÚK+Z\\x87_Ãn\\x99Á\\x84^\\x16`\\x8a*3ål+¤^v»Ý1Ã\\x8cgéÑGþ5(\\x9d\\x0fá×\\x0f\\x18êÈ\\x03É\\x05LËÍ×oä9\\x88©¯$[60en(FH\\x8a³\\x81í\\x9a¦hÈ\\x8ajà\\x95M>¹\\x1a+z\\x1f°¡0õâùº¨¡\\x04½\\x8e\\x0bN\\x1a*£4b%üø\\x12Ê,ö£Üh%èb\\x88\\x87¨*\\x12\\x84\\x83ä\\x8d\\x16\\x12Yæ¬ß\\x86»}K¨+=\\x18|fÉÙ#2@\\x89>:\\x17i<·)tnò\\x90m\\x13¯¨¿¡û¥1ô\\tngBcl&²È;èf\\t[_$Êæd\\x01¶ýÍR\\x05«\\x8açe¬ÿþØ÷\\x82Ñ\\x13¥\\xa0\\x0ch¸¾Â2+Î®¹×,\\x1a\\x8dcX¸\\x92³øÓwQæ\\x8cóffiÐî\\x8c\\x9e¢ª¾êÙm\\x94ª¾¦iÞ%T7@\\x02.s\\x1eøfWìÖß`x´\\x95EBbÎT+Â°a^ßè1¶¢Ü\\x1dîö ÈEì\"Q\\x9e0\\x81Åd#(\\x1e»\\x1drÇ_\\xa0\\x14ü{BF\\x0ev\\x96=æÉä²\\x8aÄ:\\x05Í\\x10Úk5*[KH+Lí^F\\n0\\x9cè,ô5\\x11Kù\\x0fHX15ª\\x86RËÅä2rNF\\x1fv!û¥Ç\\r|I\\x06\\x9c]ø1Ã\\x01\\x9ca[\\x1d?Î\\tËËÊvgá\\x9c\\x08³oT}ÿDæ\\xa0Q\\x0f\\x84å\\x9a\\x85veIß\"3T±\\x0b\\x15w\\xa0\\x96ÉN\\x8c»\\x84\\x9c\\\\\\x8d\\x9cî\\x96öW=ÕAL\\x97\\x01vE¼ìÕzrIZ\\x81ïÍ÷§\\x13o·-z\\x0bïg\\x92CsÔsè#PUªbÿ²i½ \\xa0\\x89\\x0eÔ\\n\\r¦WëK;j-\\x8d{¬´\\x8díH+=\\'á\\x8a\\x94`\\x9b\\x81_Ì²¸ÐVDáï\\x9a\\x87z\\x99\\x14\\x95\\x81*u§Aðø\\x81æéþÜ©<\\x1fô/\\x18íÈa2(7\\x9búy_Dz\\x83ÜÉê@kÑ\\x90ùíÿ`N\\x1eXP\\x1d\\x99^¥\\x06»Þ\\nÜ½5¹÷^5²:°å\\x84\\x1e×\\x14ß:D\\x85b\\x08-¢Ñã\\x1f@SC$3_.ã\\x06Ì6®¾%ÓRýÅ\\x1b$&\\x1b\\x88Zù¥iÛçÓaÁÔ\\x92ú®xJcø\\xad\\x83ü!\\x9aã¸Ð\\x06Uö\\x0cà\\x02&´<¶6PÍ-h_j\\x8b»¸´dwM\\rOØ\\x12cC\\x9c\\xa0-²qÉ[Rf\\x0cÀÝø\\x19')"
   ]
  },
  {
   "cell_type": "code",
   "execution_count": 35,
   "id": "e20f0e20",
   "metadata": {},
   "outputs": [
    {
     "name": "stdout",
     "output_type": "stream",
     "text": [
      "5710 11464 5909 2821 1372 674\n"
     ]
    }
   ],
   "source": [
    "llave='0011100101001010100011101100100001100001111001111111011010111011011010001000000000101001110100100011100111010101101110000101111110010010111001011010011101000110011100001011101011001001011010010001101000011011001000000100101111101001010110010111010001101010110110001111001000110001000111010111100111111001011011110001101000001001101010010110010011000101001011010101101010111010110110010010001110010000111000111110111110101111010100001010010011011010000000110110101001111010010110110111000110000110101011011100010100001100110001100100011110011101101010001101101110110000100101011110010010011011010110110010110101001001111100110110000001011101000110001110100010110011010010000110100010010010110010000000011100001001101001010100110010110000110111111011110011010110111010000110011100101011000000111101010110001000010101100100000100001111011000100010101011011111001100111010111111110001001000100100011111100110000011101010000001111011111010101110001100011000110110100001000001010111010000101100110111111000100000110100000101001110001010011010011010110011101111000101010111010011010101010010101111111100101010110101110011100100100011100110111101110100111011001001010110010001100110100000010100010000111010010001000000111001110001110100110101100101110010110011010101010101001110111101000010011100000101111001011010001011110000001110011110110000100100110100101110101001000101110101010000101101000110110010000111101110010001100001101111101101000011011011011010001101001011111110111110001010000110101010101011001100000001101100110001111101001110100101001001110011100110011111110100101001111001010000000101001010111010010000000111101111011100000101101011011110010101000000101111110001110011001001011010001110000100110000010101111100010010111110110000000001100010001110111001001001011011100011110100010111001011011101000100001101101010111011001111000011000001010011000111111111000100010111110110000110010001101100011110110101001010000110101010110100110100100001111000110001100101010111111100110011100011010100111011011110100111101010110110101110000011000001100010011011011101010111011111011111111101101110101010100010101000111011111001110001101110001011111011111000000111110111111110011001100111011111000011001010010110110011000111011101111010101111110000000111110001100001011011100000010000101111000011001101001110110110111101010111101101011010001000110101010010000001100010110101000011000010100001100011101010011111011111101010100111000100001100101111101011000010011111111100110011101110101001101111010101110000111010100101010111000011010100110111010011011111001111110110010001010001111110000110101110110010110101000000011000010101110111001001101001100111111111111001001101110000000010000000100010111010111001000010010111101101000011010110111011111101101011100001000000010011001101010001011100100101101110001011001001001001001111011110101001110100111010010111110010100000000111000001011010101111111000010100101010011111000000111100011101100000001000000111010101101100110110011010110010111000011111010001101000100000101010110101001111100110010011101110100101101101110011011100100111010100110110011111010011101011110000001011011110110101101010010010010111000101001110011100101011000110000100000101110011010011100111011010101010000100010110110101000001110110110000010011010010100101011000100011001100110111100110110111111010101101000011011100001000011010111011111110010110100101101100110011000100101100010000101001101110100111010110110110111101110010110101110110011101101111100001111100000011010111101000101101111110111010000100100110110110010101101101111010100100010011011100111000011110111110101111010100101000001001010001001110100110111111000111000010001101001100000011000000101011111011000110111100000000101101010110010101001010101000111110001101010110111011011110101001011111001000111011101000111010011101010110100000000100010101000111001100100110010001000011000000010011110100100110101010100100010000111011111000011011111100100011101101011100001101001110101011011010111011100111101001000000011101111110110111111111111001110101000111011110001010001101101010111001000111010101011000001000000001010001111101011000000001110011100101011010111011001110010101010110000010110111111010100001101101001000000010010001110000011100010001110100101011101001011110100111111011111000111111110001001000110001110011011000000010110101000001100001011001100010101001001100100010010101110101110101001101101011010001000111011110100110000011000000111000010000010001001011111110101001111011111100000000000001011000011010001100000101010011000100111001101011101011010110000100111010011100000100010101000001101111011000100101100000101001111011101010010010000101010000111100001101110110011011111111111001101100000001101000111110111101010111101100100100110110011111010111110111111110111100100101100101101101110101010110001111010111100001111000010110010101000110010000100000011010001010001110110011101101010000010110000001111011101000111101101100011000010011000010101101111010000101001110111100101000010111000101101110101111010100101001100010011011100001100101011111011101101100010101100110111101101011100110101110000101011001100010100101110000001001010100001101011101101111011111100011101100001111000001111011000111111111111011010011110100111010000110110010111001010110101000011100101111011001011100101011100110110110010001101010110111000111110111101001100010011101001110110110110110110110101111011010100110111000000111100110101011110011011101001000110010011000011010011111100101001010111011110010000100111011101111111110100000100011101100100001110001010101100011001100101001011101000100010110010000101100010101111111010110111100011100011101010111111110010110111100011001000001111111010101011101001101111010110010100001011100101100110011110000011110000111110101100111100110000111010110110001011010001111011011000100001001011010010001110110101000110100000101000010010010101011011011100101100101110100010011100111000110011010000110011001101101100010010000001011001101011111011100111010101100010000111111111010101010001110101100110000011101110000110010101010010011100101011011000101001001000100111011000101001010000001111111001000101101000101010110100110101000000100011110011010101110000010100110010001000101010101100111101000011010101100000110110110011010110111110110000111001010010111000011101001011010100010101010111001101010001011010010000010100001010001100111111101110001111100111000000100001110100101101001000100000000000001110001000110001001110011110011100011110001011110000011001101111101111101001100001011101000001110010101001010100011010111010000111110000111101100101001110011010110000000111001111010110111010100000001000100100111001000000110011000100110101100100110000001011100001101110011100010011011100011110100111010010001110100101001000000000011010100000110010011100010110011110010000010010011011001010111001010101111010100100001010101100110100000101111100110111001001100000101011010011110111110101111110000110001001110100101110011011111100111100110010101110001011011100011101010110101000101110100010011111100000000011100011101011101000001110101000110101111011010101101000010010111000011001111101111010100010100100001111010000010000101100011010110000010010001000000001011110100101101110000001100011000111100001111001001110111001100010011011011110101100101010011010100011010100000000100001001001101000000101000011110010100101101101100111011000110111000110100001000001010010010111000110001010001011110101010001110000000010111001111000100100111001010000000111011011000001100010111111110100001100100010111001111100100001001001100100010100110011010001010110101011101101000010111001100011011010100100011001100110110111010110101000000110001101010111110001110110111011011001000001100011011001110010000000001001010101101100111110001110110101001011110111101000100100010001011000110111101011101001100000010000000110100100110111100100011111010110011101010110001111100010111001100000001111011100001001101111100001100111110011110110001010000000010101100010001100010000101011110001101000110110101011101010111110011111010011100000010010010010011001100101100101011101001000000000101001101101111100110011001010010000100000011101000110010010001000100101100011001000000000101001100011011000110001100010101001001011011001010101111010011110110011101100111110100010010100111011001011000110101010010001111011111011101010011111000001010000100000101000000110100101101110001110101010011110100011111001001100010110010000000111111011000010000010010001101100010100100100000010101101101001101010011110001101010111010000001110111001110111110110110010110110110100111100001001100001011011000001010000101010101111000101001001010100010011001011000001010101000001000101100001010110110101101010100111111011100100001001001100001110001010101110000001011111001110001101100001111010011100101010101010101001000101011110110001100111011100110100100110001000100000000010111001111010010100101110011000000000100010010001001100001011011010001100100000011110011110101100011111100010011110010001011000100011010011101100100101111000000010000111000011010000101111010101101011000001010010010100101101011110000010101000111100001011111010101101110110101100001110100110001000100111001110000101101100001111100110000110100011111001010010010001001111100111110101100010011000001000010010110111010010100010001001100110111110111100110010100110101000101001100111111111000101011010010011111101111110100101110101111110010001110011111111010111100100001111111100010011111001101000101010010110100001011010010100111100100001000010001001100101011100111001000100110111001010110100001110100111011001100111110011010001010101000111101100110000111010001100000000111010110000011010001111001101110110011110001010011100111001100000101001110100010000101101000011001010111001100010011111111001011000100011101111111011111100010001100111000000000110100111110000001101001101110100110001101101011110011110011010010001010001111110101001000011100010011001111111001011011110111101101010111101001100001000010101101001010000111010100001010001111101010101110010100010101111111101010000100110011101011011001001011010001101111100010001000100001100001101001110111111011111001000001001101101010011110101011010111111000000010100001000111000010001100111001100110001110111000001000010110000000000011011011001010001001010011110111101011010100010011000111011110000011101111100000100001010111010110100100001111111110100101000101100100111010001010100101101011101110101010011010010110011110001010010001101110111101111110011001101010001100100111000000100110111101011100000111100000101001001111011111110100110111110100110110111111001000101101111111100110110010100100110001010111111100100001000010101001011010100100100100111011000010100001001110101001101101101100010111101110101101010101110010010110100101000011100110100101011110100000101011010010000000011010100010000100110000001010100100101101011101001110100101110111000011011000101010010101010000110010111100110001000000101111010011000110010100101001000111011101000001010101010011101111101101011110101001000011001011000111011011111010000000101000010000000010101101101100011110000111011010110010110001011001101010000001101001101111011000111000101001111101001000111101011000110111011101101000110010011000100101100110010110000010001001011011001101010111011001010101011101010101010111001000111110000100001101000001010010101000001001111000111101010010011000110110011000010100000100011011010110101110101110101110110111101100001111001001101110111110000000010010011101011101010001101110110011111000100001000010010110000010110110101110001000101000110111'\n",
    "tamano=len(llave)\n",
    "contador=0\n",
    "for i in range(tamano):\n",
    "    if llave[i]=='1':\n",
    "        contador=contador+1\n",
    "contador1bit=0\n",
    "for i in range(tamano):\n",
    "    if i<tamano-1:\n",
    "        if llave[i]!=llave[i+1]:\n",
    "            contador1bit=contador1bit+1\n",
    "contador2bit=0\n",
    "for i in range(tamano):\n",
    "    if i<tamano-2:\n",
    "        if llave[i]==llave[i+1] and llave[i+1]!=llave[i+2]:\n",
    "            contador2bit=contador2bit+1\n",
    "contador3bit=0\n",
    "for i in range(tamano):\n",
    "    if i<tamano-3:\n",
    "        if llave[i]==llave[i+1] and llave[i+1]==llave[i+2] and llave[i+2]!=llave[i+3]:\n",
    "            contador3bit=contador3bit+1\n",
    "contador4bit=0\n",
    "for i in range(tamano):\n",
    "    if i<tamano-4:\n",
    "        if llave[i]==llave[i+1] and llave[i+1]==llave[i+2] and llave[i+2]==llave[i+3] and llave[i+3]!=llave[i+4]:\n",
    "            contador4bit=contador4bit+1\n",
    "print(contador,tamano,contador1bit,contador2bit,contador3bit,contador4bit)"
   ]
  },
  {
   "cell_type": "code",
   "execution_count": null,
   "id": "e340dcac",
   "metadata": {},
   "outputs": [],
   "source": []
  }
 ],
 "metadata": {
  "kernelspec": {
   "display_name": "enviromentalGPU",
   "language": "python",
   "name": "enviromentalgpu"
  },
  "language_info": {
   "codemirror_mode": {
    "name": "ipython",
    "version": 3
   },
   "file_extension": ".py",
   "mimetype": "text/x-python",
   "name": "python",
   "nbconvert_exporter": "python",
   "pygments_lexer": "ipython3",
   "version": "3.10.9"
  }
 },
 "nbformat": 4,
 "nbformat_minor": 5
}
